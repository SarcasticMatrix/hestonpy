{
 "cells": [
  {
   "cell_type": "code",
   "execution_count": 8,
   "metadata": {},
   "outputs": [],
   "source": [
    "from hestonpy.models.heston import Heston\n",
    "from hestonpy.portfolio.Portfolio import Portfolio\n",
    "from hestonpy.portfolio.strategies import naive_strategy, optimal_allocate_strategy, run_strategies\n",
    "\n",
    "import matplotlib.pyplot as plt \n",
    "import numpy as np"
   ]
  },
  {
   "cell_type": "markdown",
   "metadata": {},
   "source": [
    "### Initialisation of the model"
   ]
  },
  {
   "cell_type": "code",
   "execution_count": 9,
   "metadata": {},
   "outputs": [],
   "source": [
    "spot = 100\n",
    "r = 0.05\n",
    "\n",
    "params = {\n",
    "    \"vol_initial\": 0.06,\n",
    "    \"kappa\": 1.25,\n",
    "    \"theta\": 0.06,\n",
    "    \"drift_emm\": 0.00,\n",
    "    \"sigma\": 0.6,\n",
    "    \"rho\": -0.8,\n",
    "}\n",
    "\n",
    "time_to_maturity = 1\n",
    "heston = Heston(spot=spot, r=r, **params)\n",
    "S, V, _ = heston.simulate(scheme='milstein', nbr_simulations=100, nbr_points=252)\n",
    "\n",
    "time = np.linspace(start=0, stop=time_to_maturity, num=len(S))\n",
    "dt = time[1] - time[0]\n",
    "\n",
    "portfolio = Portfolio(r=r, dt=dt)"
   ]
  },
  {
   "cell_type": "markdown",
   "metadata": {},
   "source": [
    "### Naive constant allocation strategy\n"
   ]
  },
  {
   "cell_type": "code",
   "execution_count": 10,
   "metadata": {},
   "outputs": [],
   "source": [
    "allocation1 = naive_strategy(0.5, len(S))\n",
    "bank_account, stocks_account = portfolio.back_test(S=S, portfolio0=spot, allocation_strategy=allocation1)\n",
    "portfolio_value1 = bank_account + stocks_account\n",
    "\n",
    "allocation2 = naive_strategy(0.7, len(S))\n",
    "bank_account, stocks_account = portfolio.back_test(S=S, portfolio0=spot, allocation_strategy=allocation2)\n",
    "portfolio_value2 = bank_account + stocks_account\n",
    "\n",
    "allocation3 = naive_strategy(1, len(S))\n",
    "bank_account, stocks_account = portfolio.back_test(S=S, portfolio0=spot, allocation_strategy=allocation3)\n",
    "portfolio_value3 = bank_account + stocks_account"
   ]
  },
  {
   "cell_type": "markdown",
   "metadata": {},
   "source": [
    "### Optimal allocation strategy\n"
   ]
  },
  {
   "cell_type": "code",
   "execution_count": 12,
   "metadata": {},
   "outputs": [
    {
     "ename": "AttributeError",
     "evalue": "'Heston' object has no attribute 'premium_volatility_risk'",
     "output_type": "error",
     "traceback": [
      "\u001b[0;31m---------------------------------------------------------------------------\u001b[0m",
      "\u001b[0;31mAttributeError\u001b[0m                            Traceback (most recent call last)",
      "Cell \u001b[0;32mIn[12], line 2\u001b[0m\n\u001b[1;32m      1\u001b[0m p \u001b[38;5;241m=\u001b[39m \u001b[38;5;241m0.02\u001b[39m\n\u001b[0;32m----> 2\u001b[0m optimal_allocation \u001b[38;5;241m=\u001b[39m \u001b[43moptimal_allocate_strategy\u001b[49m\u001b[43m(\u001b[49m\u001b[43mheston\u001b[49m\u001b[38;5;241;43m=\u001b[39;49m\u001b[43mheston\u001b[49m\u001b[43m,\u001b[49m\u001b[43m \u001b[49m\u001b[43mp\u001b[49m\u001b[38;5;241;43m=\u001b[39;49m\u001b[43mp\u001b[49m\u001b[43m,\u001b[49m\u001b[43m \u001b[49m\u001b[43mtime\u001b[49m\u001b[38;5;241;43m=\u001b[39;49m\u001b[43mtime\u001b[49m\u001b[43m)\u001b[49m\n\u001b[1;32m      3\u001b[0m bank_account, stocks_account \u001b[38;5;241m=\u001b[39m portfolio\u001b[38;5;241m.\u001b[39mback_test(S\u001b[38;5;241m=\u001b[39mS, portfolio0\u001b[38;5;241m=\u001b[39mspot, allocation_strategy\u001b[38;5;241m=\u001b[39moptimal_allocation)\n\u001b[1;32m      4\u001b[0m portfolio_value_optimal \u001b[38;5;241m=\u001b[39m bank_account \u001b[38;5;241m+\u001b[39m stocks_account\n",
      "File \u001b[0;32m~/Documents/packages/hestonpy/src/hestonpy/portfolio/strategies.py:61\u001b[0m, in \u001b[0;36moptimal_allocate_strategy\u001b[0;34m(heston, p, time)\u001b[0m\n\u001b[1;32m     45\u001b[0m \u001b[38;5;28;01mdef\u001b[39;00m\u001b[38;5;250m \u001b[39m\u001b[38;5;21moptimal_allocate_strategy\u001b[39m(\n\u001b[1;32m     46\u001b[0m         heston:Heston, \n\u001b[1;32m     47\u001b[0m         p:\u001b[38;5;28mfloat\u001b[39m, \n\u001b[1;32m     48\u001b[0m         time:np\u001b[38;5;241m.\u001b[39marray\n\u001b[1;32m     49\u001b[0m     ) \u001b[38;5;241m-\u001b[39m\u001b[38;5;241m>\u001b[39m np\u001b[38;5;241m.\u001b[39marray:\n\u001b[1;32m     50\u001b[0m \u001b[38;5;250m    \u001b[39m\u001b[38;5;124;03m\"\"\"\u001b[39;00m\n\u001b[1;32m     51\u001b[0m \u001b[38;5;124;03m    Implement the optimal allocation of the portfolio based on premium volatility risk and p.\u001b[39;00m\n\u001b[1;32m     52\u001b[0m \n\u001b[0;32m   (...)\u001b[0m\n\u001b[1;32m     58\u001b[0m \u001b[38;5;124;03m    - np.array: Number of stocks over time to hold over time.\u001b[39;00m\n\u001b[1;32m     59\u001b[0m \u001b[38;5;124;03m    \"\"\"\u001b[39;00m\n\u001b[0;32m---> 61\u001b[0m     k0 \u001b[38;5;241m=\u001b[39m p \u001b[38;5;241m*\u001b[39m \u001b[43mheston\u001b[49m\u001b[38;5;241;43m.\u001b[39;49m\u001b[43mpremium_volatility_risk\u001b[49m\u001b[38;5;241m*\u001b[39m\u001b[38;5;241m*\u001b[39m\u001b[38;5;241m2\u001b[39m \u001b[38;5;241m/\u001b[39m (\u001b[38;5;241m1\u001b[39m\u001b[38;5;241m-\u001b[39mp)\n\u001b[1;32m     62\u001b[0m     k1 \u001b[38;5;241m=\u001b[39m heston\u001b[38;5;241m.\u001b[39mkappa \u001b[38;5;241m-\u001b[39m p \u001b[38;5;241m*\u001b[39m heston\u001b[38;5;241m.\u001b[39mpremium_volatility_risk \u001b[38;5;241m*\u001b[39m heston\u001b[38;5;241m.\u001b[39msigma \u001b[38;5;241m*\u001b[39m heston\u001b[38;5;241m.\u001b[39mrho \u001b[38;5;241m/\u001b[39m (\u001b[38;5;241m1\u001b[39m\u001b[38;5;241m-\u001b[39mp)\n\u001b[1;32m     63\u001b[0m     k2 \u001b[38;5;241m=\u001b[39m heston\u001b[38;5;241m.\u001b[39msigma\u001b[38;5;241m*\u001b[39m\u001b[38;5;241m*\u001b[39m\u001b[38;5;241m2\u001b[39m \u001b[38;5;241m+\u001b[39m p \u001b[38;5;241m*\u001b[39m heston\u001b[38;5;241m.\u001b[39msigma\u001b[38;5;241m*\u001b[39m\u001b[38;5;241m*\u001b[39m\u001b[38;5;241m2\u001b[39m \u001b[38;5;241m*\u001b[39m heston\u001b[38;5;241m.\u001b[39mrho\u001b[38;5;241m*\u001b[39m\u001b[38;5;241m*\u001b[39m\u001b[38;5;241m2\u001b[39m \u001b[38;5;241m/\u001b[39m(\u001b[38;5;241m1\u001b[39m\u001b[38;5;241m-\u001b[39mp)\n",
      "\u001b[0;31mAttributeError\u001b[0m: 'Heston' object has no attribute 'premium_volatility_risk'"
     ]
    }
   ],
   "source": [
    "p = 0.02\n",
    "optimal_allocation = optimal_allocate_strategy(heston=heston, p=p, time=time)\n",
    "bank_account, stocks_account = portfolio.back_test(S=S, portfolio0=spot, allocation_strategy=optimal_allocation)\n",
    "portfolio_value_optimal = bank_account + stocks_account"
   ]
  },
  {
   "cell_type": "markdown",
   "metadata": {},
   "source": [
    "### Run strategies\n"
   ]
  },
  {
   "cell_type": "code",
   "execution_count": null,
   "metadata": {},
   "outputs": [],
   "source": [
    "seeds = np.arange(1, 1000, 1) + np.random.randint(low=0, high=100000)\n",
    "run_strategies(seeds, portfolio0=spot)"
   ]
  },
  {
   "cell_type": "markdown",
   "metadata": {},
   "source": [
    "### Plot strategies"
   ]
  },
  {
   "cell_type": "code",
   "execution_count": null,
   "metadata": {},
   "outputs": [],
   "source": [
    "fig, (ax1, ax2) = plt.subplots(2, 1, figsize=(10, 8), sharex=True)  \n",
    "\n",
    "ax1.plot(time, portfolio_value1, label=r'$\\pi_{50\\%}$', color='blue', linewidth=1)\n",
    "ax1.plot(time, portfolio_value2, label=r'$\\pi_{75\\%}$', color='green', linewidth=1)\n",
    "ax1.plot(time, portfolio_value3, label=r'$\\pi_{100\\%}$', color='red', linewidth=1)\n",
    "ax1.plot(time, portfolio_value_optimal, label=r'$\\pi^\\star$', color='purple', linewidth=1)\n",
    "\n",
    "ax1.plot(time, S, label='Stock', color='black', linewidth=1)\n",
    "ax1.set_ylabel('Value [currency unit]')\n",
    "ax1.set_title('Portfolio Value over Time')\n",
    "ax1.legend()\n",
    "ax1.grid(visible=True)\n",
    "\n",
    "# P&L\n",
    "PnL1 = np.diff(portfolio_value1)\n",
    "PnL2 = np.diff(portfolio_value2)\n",
    "PnL3 = np.diff(portfolio_value3)\n",
    "PnL_opt = np.diff(portfolio_value_optimal)\n",
    "\n",
    "print(\n",
    "    \"Total variation of the strategies\",\n",
    "    f\"\\n PnL1: {round(np.mean(PnL1**2),2)}\",\n",
    "    f\"\\n PnL2: {round(np.mean(PnL2**2),2)}\"\n",
    "    f\"\\n PnL3: {round(np.mean(PnL3**2),2)}\"    \n",
    "    f\"\\n PnL opt: {round(np.mean(PnL_opt**2),2)}\"\n",
    ")\n",
    "\n",
    "ax2.plot(time[1:], PnL1, label=r'$\\pi_{50\\%}$', color='blue', linewidth=0.7)\n",
    "ax2.plot(time[1:], PnL2, label=r'$\\pi_{75\\%}$', color='green', linewidth=0.7)\n",
    "ax2.plot(time[1:], PnL3, label=r'$\\pi_{100\\%}$', color='red', linewidth=0.7)\n",
    "\n",
    "ax2.plot(time[1:], PnL_opt, label=r'$\\pi^\\star$', color='purple', linewidth=0.7)\n",
    "\n",
    "\n",
    "ax2.set_xlabel('Time')\n",
    "ax2.set_ylabel(r'$PnL(t)$')\n",
    "ax2.set_title(r'$PnL$')\n",
    "ax2.legend()\n",
    "ax2.grid(visible=True)\n",
    "\n",
    "plt.suptitle('Asset allocation under Heston')\n",
    "plt.tight_layout()  \n",
    "plt.show()\n",
    "\n",
    "\n",
    "## Surface plot\n",
    "p = np.arange(start=0, stop=1, step=0.01)\n",
    "p = p[1:-1]\n",
    "time = np.arange(start=0, stop=1, step=0.01)\n",
    "p, tau = np.meshgrid(p, heston.T - time)\n",
    "\n",
    "Z = optimal_allocate_strategy(heston=heston, p=p, time=tau)\n",
    "\n",
    "fig = plt.figure()\n",
    "ax = fig.add_subplot(111, projection='3d')\n",
    "ax.plot_surface(tau, p, Z)\n",
    "\n",
    "ax.set_xlabel('p')\n",
    "ax.set_ylabel(r'$\\tau$')\n",
    "ax.set_zlabel(r'$\\%$ of portfolio in stock')\n",
    "\n",
    "plt.show()"
   ]
  }
 ],
 "metadata": {
  "kernelspec": {
   "display_name": ".venv",
   "language": "python",
   "name": "python3"
  },
  "language_info": {
   "codemirror_mode": {
    "name": "ipython",
    "version": 3
   },
   "file_extension": ".py",
   "mimetype": "text/x-python",
   "name": "python",
   "nbconvert_exporter": "python",
   "pygments_lexer": "ipython3",
   "version": "3.10.16"
  }
 },
 "nbformat": 4,
 "nbformat_minor": 2
}
